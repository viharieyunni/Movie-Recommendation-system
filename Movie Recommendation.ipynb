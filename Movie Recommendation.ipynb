{
    "cells": [
        {
            "cell_type": "code",
            "execution_count": 2,
            "metadata": {},
            "outputs": [],
            "source": "import pandas as pd\nimport numpy as np\nfrom sklearn.feature_extraction.text import CountVectorizer\nfrom sklearn.metrics.pairwise import cosine_similarity"
        },
        {
            "cell_type": "code",
            "execution_count": 12,
            "metadata": {},
            "outputs": [
                {
                    "data": {
                        "text/html": "<div>\n<style scoped>\n    .dataframe tbody tr th:only-of-type {\n        vertical-align: middle;\n    }\n\n    .dataframe tbody tr th {\n        vertical-align: top;\n    }\n\n    .dataframe thead th {\n        text-align: right;\n    }\n</style>\n<table border=\"1\" class=\"dataframe\">\n  <thead>\n    <tr style=\"text-align: right;\">\n      <th></th>\n      <th>index</th>\n      <th>budget</th>\n      <th>genres</th>\n      <th>homepage</th>\n      <th>id</th>\n      <th>keywords</th>\n      <th>original_language</th>\n      <th>original_title</th>\n      <th>overview</th>\n      <th>popularity</th>\n      <th>...</th>\n      <th>runtime</th>\n      <th>spoken_languages</th>\n      <th>status</th>\n      <th>tagline</th>\n      <th>title</th>\n      <th>vote_average</th>\n      <th>vote_count</th>\n      <th>cast</th>\n      <th>crew</th>\n      <th>director</th>\n    </tr>\n  </thead>\n  <tbody>\n    <tr>\n      <th>0</th>\n      <td>0</td>\n      <td>237000000</td>\n      <td>Action Adventure Fantasy Science Fiction</td>\n      <td>http://www.avatarmovie.com/</td>\n      <td>19995</td>\n      <td>culture clash future space war space colony so...</td>\n      <td>en</td>\n      <td>Avatar</td>\n      <td>In the 22nd century, a paraplegic Marine is di...</td>\n      <td>150.437577</td>\n      <td>...</td>\n      <td>162.0</td>\n      <td>[{\"iso_639_1\": \"en\", \"name\": \"English\"}, {\"iso...</td>\n      <td>Released</td>\n      <td>Enter the World of Pandora.</td>\n      <td>Avatar</td>\n      <td>7.2</td>\n      <td>11800</td>\n      <td>Sam Worthington Zoe Saldana Sigourney Weaver S...</td>\n      <td>[{'name': 'Stephen E. Rivkin', 'gender': 0, 'd...</td>\n      <td>James Cameron</td>\n    </tr>\n    <tr>\n      <th>1</th>\n      <td>1</td>\n      <td>300000000</td>\n      <td>Adventure Fantasy Action</td>\n      <td>http://disney.go.com/disneypictures/pirates/</td>\n      <td>285</td>\n      <td>ocean drug abuse exotic island east india trad...</td>\n      <td>en</td>\n      <td>Pirates of the Caribbean: At World's End</td>\n      <td>Captain Barbossa, long believed to be dead, ha...</td>\n      <td>139.082615</td>\n      <td>...</td>\n      <td>169.0</td>\n      <td>[{\"iso_639_1\": \"en\", \"name\": \"English\"}]</td>\n      <td>Released</td>\n      <td>At the end of the world, the adventure begins.</td>\n      <td>Pirates of the Caribbean: At World's End</td>\n      <td>6.9</td>\n      <td>4500</td>\n      <td>Johnny Depp Orlando Bloom Keira Knightley Stel...</td>\n      <td>[{'name': 'Dariusz Wolski', 'gender': 2, 'depa...</td>\n      <td>Gore Verbinski</td>\n    </tr>\n    <tr>\n      <th>2</th>\n      <td>2</td>\n      <td>245000000</td>\n      <td>Action Adventure Crime</td>\n      <td>http://www.sonypictures.com/movies/spectre/</td>\n      <td>206647</td>\n      <td>spy based on novel secret agent sequel mi6</td>\n      <td>en</td>\n      <td>Spectre</td>\n      <td>A cryptic message from Bond\u2019s past sends him o...</td>\n      <td>107.376788</td>\n      <td>...</td>\n      <td>148.0</td>\n      <td>[{\"iso_639_1\": \"fr\", \"name\": \"Fran\\u00e7ais\"},...</td>\n      <td>Released</td>\n      <td>A Plan No One Escapes</td>\n      <td>Spectre</td>\n      <td>6.3</td>\n      <td>4466</td>\n      <td>Daniel Craig Christoph Waltz L\\u00e9a Seydoux ...</td>\n      <td>[{'name': 'Thomas Newman', 'gender': 2, 'depar...</td>\n      <td>Sam Mendes</td>\n    </tr>\n    <tr>\n      <th>3</th>\n      <td>3</td>\n      <td>250000000</td>\n      <td>Action Crime Drama Thriller</td>\n      <td>http://www.thedarkknightrises.com/</td>\n      <td>49026</td>\n      <td>dc comics crime fighter terrorist secret ident...</td>\n      <td>en</td>\n      <td>The Dark Knight Rises</td>\n      <td>Following the death of District Attorney Harve...</td>\n      <td>112.312950</td>\n      <td>...</td>\n      <td>165.0</td>\n      <td>[{\"iso_639_1\": \"en\", \"name\": \"English\"}]</td>\n      <td>Released</td>\n      <td>The Legend Ends</td>\n      <td>The Dark Knight Rises</td>\n      <td>7.6</td>\n      <td>9106</td>\n      <td>Christian Bale Michael Caine Gary Oldman Anne ...</td>\n      <td>[{'name': 'Hans Zimmer', 'gender': 2, 'departm...</td>\n      <td>Christopher Nolan</td>\n    </tr>\n    <tr>\n      <th>4</th>\n      <td>4</td>\n      <td>260000000</td>\n      <td>Action Adventure Science Fiction</td>\n      <td>http://movies.disney.com/john-carter</td>\n      <td>49529</td>\n      <td>based on novel mars medallion space travel pri...</td>\n      <td>en</td>\n      <td>John Carter</td>\n      <td>John Carter is a war-weary, former military ca...</td>\n      <td>43.926995</td>\n      <td>...</td>\n      <td>132.0</td>\n      <td>[{\"iso_639_1\": \"en\", \"name\": \"English\"}]</td>\n      <td>Released</td>\n      <td>Lost in our world, found in another.</td>\n      <td>John Carter</td>\n      <td>6.1</td>\n      <td>2124</td>\n      <td>Taylor Kitsch Lynn Collins Samantha Morton Wil...</td>\n      <td>[{'name': 'Andrew Stanton', 'gender': 2, 'depa...</td>\n      <td>Andrew Stanton</td>\n    </tr>\n  </tbody>\n</table>\n<p>5 rows \u00d7 24 columns</p>\n</div>",
                        "text/plain": "   index     budget                                    genres  \\\n0      0  237000000  Action Adventure Fantasy Science Fiction   \n1      1  300000000                  Adventure Fantasy Action   \n2      2  245000000                    Action Adventure Crime   \n3      3  250000000               Action Crime Drama Thriller   \n4      4  260000000          Action Adventure Science Fiction   \n\n                                       homepage      id  \\\n0                   http://www.avatarmovie.com/   19995   \n1  http://disney.go.com/disneypictures/pirates/     285   \n2   http://www.sonypictures.com/movies/spectre/  206647   \n3            http://www.thedarkknightrises.com/   49026   \n4          http://movies.disney.com/john-carter   49529   \n\n                                            keywords original_language  \\\n0  culture clash future space war space colony so...                en   \n1  ocean drug abuse exotic island east india trad...                en   \n2         spy based on novel secret agent sequel mi6                en   \n3  dc comics crime fighter terrorist secret ident...                en   \n4  based on novel mars medallion space travel pri...                en   \n\n                             original_title  \\\n0                                    Avatar   \n1  Pirates of the Caribbean: At World's End   \n2                                   Spectre   \n3                     The Dark Knight Rises   \n4                               John Carter   \n\n                                            overview  popularity  ... runtime  \\\n0  In the 22nd century, a paraplegic Marine is di...  150.437577  ...   162.0   \n1  Captain Barbossa, long believed to be dead, ha...  139.082615  ...   169.0   \n2  A cryptic message from Bond\u2019s past sends him o...  107.376788  ...   148.0   \n3  Following the death of District Attorney Harve...  112.312950  ...   165.0   \n4  John Carter is a war-weary, former military ca...   43.926995  ...   132.0   \n\n                                    spoken_languages    status  \\\n0  [{\"iso_639_1\": \"en\", \"name\": \"English\"}, {\"iso...  Released   \n1           [{\"iso_639_1\": \"en\", \"name\": \"English\"}]  Released   \n2  [{\"iso_639_1\": \"fr\", \"name\": \"Fran\\u00e7ais\"},...  Released   \n3           [{\"iso_639_1\": \"en\", \"name\": \"English\"}]  Released   \n4           [{\"iso_639_1\": \"en\", \"name\": \"English\"}]  Released   \n\n                                          tagline  \\\n0                     Enter the World of Pandora.   \n1  At the end of the world, the adventure begins.   \n2                           A Plan No One Escapes   \n3                                 The Legend Ends   \n4            Lost in our world, found in another.   \n\n                                      title vote_average vote_count  \\\n0                                    Avatar          7.2      11800   \n1  Pirates of the Caribbean: At World's End          6.9       4500   \n2                                   Spectre          6.3       4466   \n3                     The Dark Knight Rises          7.6       9106   \n4                               John Carter          6.1       2124   \n\n                                                cast  \\\n0  Sam Worthington Zoe Saldana Sigourney Weaver S...   \n1  Johnny Depp Orlando Bloom Keira Knightley Stel...   \n2  Daniel Craig Christoph Waltz L\\u00e9a Seydoux ...   \n3  Christian Bale Michael Caine Gary Oldman Anne ...   \n4  Taylor Kitsch Lynn Collins Samantha Morton Wil...   \n\n                                                crew           director  \n0  [{'name': 'Stephen E. Rivkin', 'gender': 0, 'd...      James Cameron  \n1  [{'name': 'Dariusz Wolski', 'gender': 2, 'depa...     Gore Verbinski  \n2  [{'name': 'Thomas Newman', 'gender': 2, 'depar...         Sam Mendes  \n3  [{'name': 'Hans Zimmer', 'gender': 2, 'departm...  Christopher Nolan  \n4  [{'name': 'Andrew Stanton', 'gender': 2, 'depa...     Andrew Stanton  \n\n[5 rows x 24 columns]"
                    },
                    "execution_count": 12,
                    "metadata": {},
                    "output_type": "execute_result"
                }
            ],
            "source": "# The code was removed by Watson Studio for sharing."
        },
        {
            "cell_type": "code",
            "execution_count": 13,
            "metadata": {},
            "outputs": [
                {
                    "data": {
                        "text/html": "<div>\n<style scoped>\n    .dataframe tbody tr th:only-of-type {\n        vertical-align: middle;\n    }\n\n    .dataframe tbody tr th {\n        vertical-align: top;\n    }\n\n    .dataframe thead th {\n        text-align: right;\n    }\n</style>\n<table border=\"1\" class=\"dataframe\">\n  <thead>\n    <tr style=\"text-align: right;\">\n      <th></th>\n      <th>index</th>\n      <th>budget</th>\n      <th>genres</th>\n      <th>homepage</th>\n      <th>id</th>\n      <th>keywords</th>\n      <th>original_language</th>\n      <th>original_title</th>\n      <th>overview</th>\n      <th>popularity</th>\n      <th>...</th>\n      <th>runtime</th>\n      <th>spoken_languages</th>\n      <th>status</th>\n      <th>tagline</th>\n      <th>title</th>\n      <th>vote_average</th>\n      <th>vote_count</th>\n      <th>cast</th>\n      <th>crew</th>\n      <th>director</th>\n    </tr>\n  </thead>\n  <tbody>\n    <tr>\n      <th>0</th>\n      <td>0</td>\n      <td>237000000</td>\n      <td>Action Adventure Fantasy Science Fiction</td>\n      <td>http://www.avatarmovie.com/</td>\n      <td>19995</td>\n      <td>culture clash future space war space colony so...</td>\n      <td>en</td>\n      <td>Avatar</td>\n      <td>In the 22nd century, a paraplegic Marine is di...</td>\n      <td>150.437577</td>\n      <td>...</td>\n      <td>162.0</td>\n      <td>[{\"iso_639_1\": \"en\", \"name\": \"English\"}, {\"iso...</td>\n      <td>Released</td>\n      <td>Enter the World of Pandora.</td>\n      <td>Avatar</td>\n      <td>7.2</td>\n      <td>11800</td>\n      <td>Sam Worthington Zoe Saldana Sigourney Weaver S...</td>\n      <td>[{'name': 'Stephen E. Rivkin', 'gender': 0, 'd...</td>\n      <td>James Cameron</td>\n    </tr>\n    <tr>\n      <th>1</th>\n      <td>1</td>\n      <td>300000000</td>\n      <td>Adventure Fantasy Action</td>\n      <td>http://disney.go.com/disneypictures/pirates/</td>\n      <td>285</td>\n      <td>ocean drug abuse exotic island east india trad...</td>\n      <td>en</td>\n      <td>Pirates of the Caribbean: At World's End</td>\n      <td>Captain Barbossa, long believed to be dead, ha...</td>\n      <td>139.082615</td>\n      <td>...</td>\n      <td>169.0</td>\n      <td>[{\"iso_639_1\": \"en\", \"name\": \"English\"}]</td>\n      <td>Released</td>\n      <td>At the end of the world, the adventure begins.</td>\n      <td>Pirates of the Caribbean: At World's End</td>\n      <td>6.9</td>\n      <td>4500</td>\n      <td>Johnny Depp Orlando Bloom Keira Knightley Stel...</td>\n      <td>[{'name': 'Dariusz Wolski', 'gender': 2, 'depa...</td>\n      <td>Gore Verbinski</td>\n    </tr>\n    <tr>\n      <th>2</th>\n      <td>2</td>\n      <td>245000000</td>\n      <td>Action Adventure Crime</td>\n      <td>http://www.sonypictures.com/movies/spectre/</td>\n      <td>206647</td>\n      <td>spy based on novel secret agent sequel mi6</td>\n      <td>en</td>\n      <td>Spectre</td>\n      <td>A cryptic message from Bond\u2019s past sends him o...</td>\n      <td>107.376788</td>\n      <td>...</td>\n      <td>148.0</td>\n      <td>[{\"iso_639_1\": \"fr\", \"name\": \"Fran\\u00e7ais\"},...</td>\n      <td>Released</td>\n      <td>A Plan No One Escapes</td>\n      <td>Spectre</td>\n      <td>6.3</td>\n      <td>4466</td>\n      <td>Daniel Craig Christoph Waltz L\\u00e9a Seydoux ...</td>\n      <td>[{'name': 'Thomas Newman', 'gender': 2, 'depar...</td>\n      <td>Sam Mendes</td>\n    </tr>\n    <tr>\n      <th>3</th>\n      <td>3</td>\n      <td>250000000</td>\n      <td>Action Crime Drama Thriller</td>\n      <td>http://www.thedarkknightrises.com/</td>\n      <td>49026</td>\n      <td>dc comics crime fighter terrorist secret ident...</td>\n      <td>en</td>\n      <td>The Dark Knight Rises</td>\n      <td>Following the death of District Attorney Harve...</td>\n      <td>112.312950</td>\n      <td>...</td>\n      <td>165.0</td>\n      <td>[{\"iso_639_1\": \"en\", \"name\": \"English\"}]</td>\n      <td>Released</td>\n      <td>The Legend Ends</td>\n      <td>The Dark Knight Rises</td>\n      <td>7.6</td>\n      <td>9106</td>\n      <td>Christian Bale Michael Caine Gary Oldman Anne ...</td>\n      <td>[{'name': 'Hans Zimmer', 'gender': 2, 'departm...</td>\n      <td>Christopher Nolan</td>\n    </tr>\n    <tr>\n      <th>4</th>\n      <td>4</td>\n      <td>260000000</td>\n      <td>Action Adventure Science Fiction</td>\n      <td>http://movies.disney.com/john-carter</td>\n      <td>49529</td>\n      <td>based on novel mars medallion space travel pri...</td>\n      <td>en</td>\n      <td>John Carter</td>\n      <td>John Carter is a war-weary, former military ca...</td>\n      <td>43.926995</td>\n      <td>...</td>\n      <td>132.0</td>\n      <td>[{\"iso_639_1\": \"en\", \"name\": \"English\"}]</td>\n      <td>Released</td>\n      <td>Lost in our world, found in another.</td>\n      <td>John Carter</td>\n      <td>6.1</td>\n      <td>2124</td>\n      <td>Taylor Kitsch Lynn Collins Samantha Morton Wil...</td>\n      <td>[{'name': 'Andrew Stanton', 'gender': 2, 'depa...</td>\n      <td>Andrew Stanton</td>\n    </tr>\n  </tbody>\n</table>\n<p>5 rows \u00d7 24 columns</p>\n</div>",
                        "text/plain": "   index     budget                                    genres  \\\n0      0  237000000  Action Adventure Fantasy Science Fiction   \n1      1  300000000                  Adventure Fantasy Action   \n2      2  245000000                    Action Adventure Crime   \n3      3  250000000               Action Crime Drama Thriller   \n4      4  260000000          Action Adventure Science Fiction   \n\n                                       homepage      id  \\\n0                   http://www.avatarmovie.com/   19995   \n1  http://disney.go.com/disneypictures/pirates/     285   \n2   http://www.sonypictures.com/movies/spectre/  206647   \n3            http://www.thedarkknightrises.com/   49026   \n4          http://movies.disney.com/john-carter   49529   \n\n                                            keywords original_language  \\\n0  culture clash future space war space colony so...                en   \n1  ocean drug abuse exotic island east india trad...                en   \n2         spy based on novel secret agent sequel mi6                en   \n3  dc comics crime fighter terrorist secret ident...                en   \n4  based on novel mars medallion space travel pri...                en   \n\n                             original_title  \\\n0                                    Avatar   \n1  Pirates of the Caribbean: At World's End   \n2                                   Spectre   \n3                     The Dark Knight Rises   \n4                               John Carter   \n\n                                            overview  popularity  ... runtime  \\\n0  In the 22nd century, a paraplegic Marine is di...  150.437577  ...   162.0   \n1  Captain Barbossa, long believed to be dead, ha...  139.082615  ...   169.0   \n2  A cryptic message from Bond\u2019s past sends him o...  107.376788  ...   148.0   \n3  Following the death of District Attorney Harve...  112.312950  ...   165.0   \n4  John Carter is a war-weary, former military ca...   43.926995  ...   132.0   \n\n                                    spoken_languages    status  \\\n0  [{\"iso_639_1\": \"en\", \"name\": \"English\"}, {\"iso...  Released   \n1           [{\"iso_639_1\": \"en\", \"name\": \"English\"}]  Released   \n2  [{\"iso_639_1\": \"fr\", \"name\": \"Fran\\u00e7ais\"},...  Released   \n3           [{\"iso_639_1\": \"en\", \"name\": \"English\"}]  Released   \n4           [{\"iso_639_1\": \"en\", \"name\": \"English\"}]  Released   \n\n                                          tagline  \\\n0                     Enter the World of Pandora.   \n1  At the end of the world, the adventure begins.   \n2                           A Plan No One Escapes   \n3                                 The Legend Ends   \n4            Lost in our world, found in another.   \n\n                                      title vote_average vote_count  \\\n0                                    Avatar          7.2      11800   \n1  Pirates of the Caribbean: At World's End          6.9       4500   \n2                                   Spectre          6.3       4466   \n3                     The Dark Knight Rises          7.6       9106   \n4                               John Carter          6.1       2124   \n\n                                                cast  \\\n0  Sam Worthington Zoe Saldana Sigourney Weaver S...   \n1  Johnny Depp Orlando Bloom Keira Knightley Stel...   \n2  Daniel Craig Christoph Waltz L\\u00e9a Seydoux ...   \n3  Christian Bale Michael Caine Gary Oldman Anne ...   \n4  Taylor Kitsch Lynn Collins Samantha Morton Wil...   \n\n                                                crew           director  \n0  [{'name': 'Stephen E. Rivkin', 'gender': 0, 'd...      James Cameron  \n1  [{'name': 'Dariusz Wolski', 'gender': 2, 'depa...     Gore Verbinski  \n2  [{'name': 'Thomas Newman', 'gender': 2, 'depar...         Sam Mendes  \n3  [{'name': 'Hans Zimmer', 'gender': 2, 'departm...  Christopher Nolan  \n4  [{'name': 'Andrew Stanton', 'gender': 2, 'depa...     Andrew Stanton  \n\n[5 rows x 24 columns]"
                    },
                    "execution_count": 13,
                    "metadata": {},
                    "output_type": "execute_result"
                }
            ],
            "source": "df_data_1.head(5)"
        },
        {
            "cell_type": "code",
            "execution_count": 14,
            "metadata": {},
            "outputs": [],
            "source": "features = ['keywords','cast','genres','director']\n"
        },
        {
            "cell_type": "code",
            "execution_count": 15,
            "metadata": {},
            "outputs": [],
            "source": "def combine_features(row):\n    return row['keywords']+\" \"+row['cast']+\" \"+row['genres']+\" \"+row['director']"
        },
        {
            "cell_type": "code",
            "execution_count": 19,
            "metadata": {},
            "outputs": [],
            "source": "for feature in features:\n    df_data_1[feature] = df_data_1[feature].fillna('')\n"
        },
        {
            "cell_type": "code",
            "execution_count": 20,
            "metadata": {},
            "outputs": [],
            "source": "df_data_1[\"combined_features\"] = df_data_1.apply(combine_features,axis=1)"
        },
        {
            "cell_type": "code",
            "execution_count": 22,
            "metadata": {},
            "outputs": [
                {
                    "name": "stdout",
                    "output_type": "stream",
                    "text": "Combined features: 0    culture clash future space war space colony so...\n1    ocean drug abuse exotic island east india trad...\n2    spy based on novel secret agent sequel mi6 Dan...\n3    dc comics crime fighter terrorist secret ident...\n4    based on novel mars medallion space travel pri...\nName: combined_features, dtype: object\n"
                }
            ],
            "source": "print(\"Combined features:\", df_data_1['combined_features'].head())"
        },
        {
            "cell_type": "code",
            "execution_count": 23,
            "metadata": {},
            "outputs": [],
            "source": "cv = CountVectorizer()"
        },
        {
            "cell_type": "code",
            "execution_count": 24,
            "metadata": {},
            "outputs": [],
            "source": "count_matrix = cv.fit_transform(df_data_1[\"combined_features\"])"
        },
        {
            "cell_type": "code",
            "execution_count": 25,
            "metadata": {},
            "outputs": [
                {
                    "name": "stdout",
                    "output_type": "stream",
                    "text": "  (0, 2061)\t1\n  (0, 6542)\t1\n  (0, 4566)\t1\n  (0, 11745)\t1\n  (0, 4435)\t1\n  (0, 144)\t1\n  (0, 86)\t1\n  (0, 11217)\t1\n  (0, 8831)\t1\n  (0, 7496)\t1\n  (0, 12567)\t1\n  (0, 14291)\t1\n  (0, 12134)\t1\n  (0, 11490)\t1\n  (0, 14820)\t1\n  (0, 14561)\t1\n  (0, 11517)\t1\n  (0, 12299)\t1\n  (0, 2755)\t1\n  (0, 14235)\t1\n  (0, 12386)\t2\n  (0, 4886)\t1\n  (0, 2616)\t1\n  (0, 3115)\t1\n  (1, 14017)\t1\n  :\t:\n  (4801, 2978)\t1\n  (4801, 11361)\t1\n  (4801, 14796)\t1\n  (4801, 4098)\t1\n  (4801, 252)\t1\n  (4801, 5844)\t1\n  (4801, 10069)\t1\n  (4801, 1382)\t1\n  (4801, 3217)\t2\n  (4802, 5900)\t2\n  (4802, 4502)\t1\n  (4802, 3093)\t1\n  (4802, 2056)\t1\n  (4802, 3894)\t1\n  (4802, 5399)\t1\n  (4802, 3681)\t1\n  (4802, 11185)\t1\n  (4802, 1069)\t1\n  (4802, 3821)\t1\n  (4802, 2912)\t1\n  (4802, 5181)\t1\n  (4802, 4210)\t1\n  (4802, 1788)\t2\n  (4802, 3812)\t1\n  (4802, 9659)\t1\n"
                }
            ],
            "source": "print(count_matrix)"
        },
        {
            "cell_type": "code",
            "execution_count": 26,
            "metadata": {},
            "outputs": [],
            "source": "cosine_sim = cosine_similarity(count_matrix)"
        },
        {
            "cell_type": "code",
            "execution_count": 27,
            "metadata": {},
            "outputs": [
                {
                    "name": "stdout",
                    "output_type": "stream",
                    "text": "[[1.         0.10540926 0.12038585 ... 0.         0.         0.        ]\n [0.10540926 1.         0.0761387  ... 0.03651484 0.         0.        ]\n [0.12038585 0.0761387  1.         ... 0.         0.11145564 0.        ]\n ...\n [0.         0.03651484 0.         ... 1.         0.         0.04264014]\n [0.         0.         0.11145564 ... 0.         1.         0.        ]\n [0.         0.         0.         ... 0.04264014 0.         1.        ]]\n"
                }
            ],
            "source": "print(cosine_sim)"
        },
        {
            "cell_type": "code",
            "execution_count": 30,
            "metadata": {},
            "outputs": [],
            "source": "def get_title_from_index(index):\n    return df_data_1[df_data_1.index == index][\"title\"].values[0]\ndef get_index_from_title(title):\n    return df_data_1[df_data_1.title == title][\"index\"].values[0]"
        },
        {
            "cell_type": "code",
            "execution_count": 31,
            "metadata": {},
            "outputs": [],
            "source": "movie_user_likes = \"Avatar\"\nmovie_index = get_index_from_title(movie_user_likes)\nsimilar_movies = list(enumerate(cosine_sim[movie_index])) "
        },
        {
            "cell_type": "code",
            "execution_count": 32,
            "metadata": {},
            "outputs": [],
            "source": "sorted_similar_movies = sorted(similar_movies,key=lambda x:x[1],reverse=True)[1:]"
        },
        {
            "cell_type": "code",
            "execution_count": 35,
            "metadata": {},
            "outputs": [
                {
                    "name": "stdout",
                    "output_type": "stream",
                    "text": "Top 5 similar movies to Avatar are:\n\nGuardians of the Galaxy\nAliens\nStar Wars: Clone Wars: Volume 1\nStar Trek Into Darkness\nStar Trek Beyond\nAlien\nLockout\nJason X\nThe Helix... Loaded\nMoonraker\nPlanet of the Apes\nGalaxy Quest\nGravity\nAlien\u00b3\nJupiter Ascending\nThe Wolverine\nSilent Running\nZathura: A Space Adventure\nTrekkies\nCargo\nWing Commander\nStar Trek\nLost in Space\nBabylon A.D.\nThe Fifth Element\nOblivion\nTitan A.E.\nAVP: Alien vs. Predator\nThe Empire Strikes Back\nDragonball Evolution\nSuperman Returns\nDivergent\nJohn Carter\nThe Black Hole\nThe Ice Pirates\nMemoirs of an Invisible Man\nStarship Troopers\nThe Astronaut's Wife\nMachete Kills\nSoldier\nThe Abyss\nDamnation Alley\nMen in Black\nSpace Cowboys\nSpace Dogs\nThe Time Machine\nSheena\nCaptain America: Civil War\nStar Trek: Insurrection\nOz: The Great and Powerful\nThe One\n"
                }
            ],
            "source": "\nprint(\"Top 5 similar movies to \"+movie_user_likes+\" are:\\n\")\ni=0\nfor element in sorted_similar_movies:\n    print(get_title_from_index(element[0]))\n    i=i+1\n    if i>50:\n        break"
        },
        {
            "cell_type": "code",
            "execution_count": null,
            "metadata": {},
            "outputs": [],
            "source": ""
        }
    ],
    "metadata": {
        "kernelspec": {
            "display_name": "Python 3.6",
            "language": "python",
            "name": "python3"
        },
        "language_info": {
            "codemirror_mode": {
                "name": "ipython",
                "version": 3
            },
            "file_extension": ".py",
            "mimetype": "text/x-python",
            "name": "python",
            "nbconvert_exporter": "python",
            "pygments_lexer": "ipython3",
            "version": "3.6.9"
        }
    },
    "nbformat": 4,
    "nbformat_minor": 1
}